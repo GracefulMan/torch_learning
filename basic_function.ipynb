{
 "cells": [
  {
   "cell_type": "code",
   "execution_count": 1,
   "metadata": {
    "collapsed": true
   },
   "outputs": [],
   "source": [
    "import torch\n",
    "import numpy as np"
   ]
  },
  {
   "cell_type": "markdown",
   "metadata": {},
   "source": [
    "# Basic operation"
   ]
  },
  {
   "cell_type": "markdown",
   "metadata": {},
   "source": [
    "## Judge the type of object"
   ]
  },
  {
   "cell_type": "code",
   "execution_count": 5,
   "metadata": {},
   "outputs": [
    {
     "name": "stdout",
     "output_type": "stream",
     "text": [
      "a is a tensor:False\n",
      "b is a tensor:True\n"
     ]
    }
   ],
   "source": [
    "# judge whether an object is a tensor or not.\n",
    "a = np.array([1, 2, 3, 4])\n",
    "b = torch.randn(3,3)\n",
    "print(\"a is a tensor:%s\" % torch.is_tensor(a))\n",
    "print(\"b is a tensor:%s\" % torch.is_tensor(b))\n"
   ]
  },
  {
   "cell_type": "markdown",
   "metadata": {},
   "source": [
    "we can also use function:`torch.is_storage(obj)` to judge whether the object is a python storage object.return bool type(true or false)"
   ]
  },
  {
   "cell_type": "markdown",
   "metadata": {},
   "source": [
    "## Get the element number of tensor "
   ]
  },
  {
   "cell_type": "markdown",
   "metadata": {},
   "source": [
    "`torch.numel(input)->int`: return the element number of tensor:input"
   ]
  },
  {
   "cell_type": "code",
   "execution_count": 6,
   "metadata": {},
   "outputs": [
    {
     "name": "stdout",
     "output_type": "stream",
     "text": [
      "the element number of tensor a is: 120\n",
      "the element number of tensor b is: 16\n"
     ]
    }
   ],
   "source": [
    "a = torch.randn(1, 2, 3, 4, 5)\n",
    "print(\"the element number of tensor a is: %d\" % torch.numel(a))\n",
    "b = torch.zeros(4, 4)\n",
    "print(\"the element number of tensor b is: %d\" % torch.numel(b))"
   ]
  },
  {
   "cell_type": "markdown",
   "metadata": {},
   "source": [
    "calculate method: a is 5 dims tensor, total element number is:5! = 120"
   ]
  },
  {
   "cell_type": "markdown",
   "metadata": {},
   "source": [
    "## Create Ops"
   ]
  },
  {
   "cell_type": "markdown",
   "metadata": {},
   "source": [
    "### create identity matrix(m * n)"
   ]
  },
  {
   "cell_type": "markdown",
   "metadata": {},
   "source": [
    "create a inentity matrix:\n",
    "**`torch.eye(n, m=None, out=None)`**: return a table(2 dims identity matrix) \n",
    "\n",
    "**parameters:** \n",
    "\n",
    "* n(int):the number of rows.\n",
    "* m(int, optional):the number of column,if \"None\":m==n\n",
    "* out(Tensor, optional): output tensor    "
   ]
  },
  {
   "cell_type": "code",
   "execution_count": 9,
   "metadata": {},
   "outputs": [
    {
     "name": "stdout",
     "output_type": "stream",
     "text": [
      "tensor([[1., 0., 0.],\n",
      "        [0., 1., 0.],\n",
      "        [0., 0., 1.]])\n"
     ]
    }
   ],
   "source": [
    "a = torch.eye(3)\n",
    "print(a)"
   ]
  },
  {
   "cell_type": "code",
   "execution_count": 10,
   "metadata": {},
   "outputs": [
    {
     "name": "stdout",
     "output_type": "stream",
     "text": [
      "tensor([[1., 0., 0.],\n",
      "        [0., 1., 0.]])\n"
     ]
    }
   ],
   "source": [
    "b = torch.eye(2, 3)\n",
    "print(b)"
   ]
  },
  {
   "cell_type": "markdown",
   "metadata": {},
   "source": [
    "### convert numpy object into tensor"
   ]
  },
  {
   "cell_type": "markdown",
   "metadata": {},
   "source": [
    "function:**`from_numpy(ndarray)`**-> Tensor\n",
    "Note:\n",
    "    this function convert a numpy object into Tensor obj.\n",
    "\n",
    "**Key point:**\n",
    "\n",
    "* the tensor and numpy object share the same memory space, modify one of them, the other obj will be modified same. \n",
    "* the size of returned tensor can't be modified."
   ]
  },
  {
   "cell_type": "code",
   "execution_count": 16,
   "metadata": {},
   "outputs": [
    {
     "name": "stdout",
     "output_type": "stream",
     "text": [
      "[[1. 0. 0.]\n",
      " [0. 1. 0.]\n",
      " [0. 0. 1.]]\n",
      "tensor([[1., 0., 0.],\n",
      "        [0., 1., 0.],\n",
      "        [0., 0., 1.]], dtype=torch.float64)\n"
     ]
    }
   ],
   "source": [
    "a = np.eye(3)\n",
    "print(a)\n",
    "t = torch.from_numpy(a)\n",
    "print(t)"
   ]
  },
  {
   "cell_type": "code",
   "execution_count": 22,
   "metadata": {
    "scrolled": true
   },
   "outputs": [
    {
     "name": "stdout",
     "output_type": "stream",
     "text": [
      "[[1. 2. 0.]\n",
      " [0. 1. 0.]\n",
      " [0. 0. 1.]]\n",
      "tensor([[10.,  2.,  0.],\n",
      "        [ 0.,  1.,  0.],\n",
      "        [ 0.,  0.,  1.]], dtype=torch.float64)\n"
     ]
    }
   ],
   "source": [
    "t[0, 1] = 2\n",
    "print(a)\n",
    "# we can see that when we modified tensor, the orginal numpy obj has been modified.\n",
    "a[0, 0] = 10\n",
    "print(t)"
   ]
  },
  {
   "cell_type": "markdown",
   "metadata": {},
   "source": [
    "### ceate tensor object like Arithmetic progression"
   ]
  },
  {
   "cell_type": "markdown",
   "metadata": {},
   "source": [
    "function:**`torch.linspace(start, end, steps=100, out=None)`**->tensor\n",
    "return: return a list(1 dim tensor), each element number will be included into the interval:**$[start, end]$** with uniform distribution and the length of list is:`step`.\n",
    "\n",
    "**parameters:**\n",
    "\n",
    "* start(float)- start point.\n",
    "* end(float) - end point.\n",
    "* step(int) - the generated sample nums between start and end.\n"
   ]
  },
  {
   "cell_type": "code",
   "execution_count": 23,
   "metadata": {},
   "outputs": [
    {
     "data": {
      "text/plain": [
       "tensor([ 1.,  2.,  3.,  4.,  5.,  6.,  7.,  8.,  9., 10.])"
      ]
     },
     "execution_count": 23,
     "metadata": {},
     "output_type": "execute_result"
    }
   ],
   "source": [
    "torch.linspace(1, 10, steps=10)"
   ]
  },
  {
   "cell_type": "code",
   "execution_count": 24,
   "metadata": {},
   "outputs": [
    {
     "data": {
      "text/plain": [
       "tensor([-10.,  -5.,   0.,   5.,  10.])"
      ]
     },
     "execution_count": 24,
     "metadata": {},
     "output_type": "execute_result"
    }
   ],
   "source": [
    "torch.linspace(-10, 10, steps = 5)"
   ]
  },
  {
   "cell_type": "markdown",
   "metadata": {},
   "source": [
    "function:**`torch.logspace(start, end, steps=100, out=None)`**->tensor\n",
    "return: return a list(1 dim tensor), each element number will be included into the interval:**$[10^{start}, 10^{end}]$** with uniform distribution in **logarithmic scale** and the length of list is:`step`.\n",
    "\n",
    "**parameters:**\n",
    "\n",
    "* start(float)- start point.\n",
    "* end(float) - end point.\n",
    "* step(int) - the generated sample nums between start and end.\n"
   ]
  },
  {
   "cell_type": "code",
   "execution_count": 27,
   "metadata": {
    "scrolled": true
   },
   "outputs": [
    {
     "data": {
      "text/plain": [
       "tensor([1.0000e-10, 1.1288e-09, 1.2743e-08, 1.4385e-07, 1.6238e-06, 1.8330e-05,\n",
       "        2.0691e-04, 2.3357e-03, 2.6367e-02, 2.9764e-01, 3.3598e+00, 3.7927e+01,\n",
       "        4.2813e+02, 4.8329e+03, 5.4556e+04, 6.1585e+05, 6.9519e+06, 7.8476e+07,\n",
       "        8.8587e+08, 1.0000e+10])"
      ]
     },
     "execution_count": 27,
     "metadata": {},
     "output_type": "execute_result"
    }
   ],
   "source": [
    "torch.logspace(start = -10, end = 10, steps = 20)"
   ]
  },
  {
   "cell_type": "code",
   "execution_count": 28,
   "metadata": {},
   "outputs": [
    {
     "data": {
      "text/plain": [
       "1"
      ]
     },
     "execution_count": 28,
     "metadata": {},
     "output_type": "execute_result"
    }
   ],
   "source": []
  },
  {
   "cell_type": "code",
   "execution_count": null,
   "metadata": {
    "collapsed": true
   },
   "outputs": [],
   "source": []
  }
 ],
 "metadata": {
  "kernelspec": {
   "display_name": "Python 3",
   "language": "python",
   "name": "python3"
  },
  "language_info": {
   "codemirror_mode": {
    "name": "ipython",
    "version": 3
   },
   "file_extension": ".py",
   "mimetype": "text/x-python",
   "name": "python",
   "nbconvert_exporter": "python",
   "pygments_lexer": "ipython3",
   "version": "3.6.2"
  }
 },
 "nbformat": 4,
 "nbformat_minor": 2
}
