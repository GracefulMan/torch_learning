{
 "cells": [
  {
   "cell_type": "code",
   "execution_count": 1,
   "metadata": {
    "collapsed": true
   },
   "outputs": [],
   "source": [
    "import torch\n",
    "import numpy as np"
   ]
  },
  {
   "cell_type": "markdown",
   "metadata": {},
   "source": [
    "# Basic operation"
   ]
  },
  {
   "cell_type": "markdown",
   "metadata": {},
   "source": [
    "### Judge the type of object"
   ]
  },
  {
   "cell_type": "code",
   "execution_count": 5,
   "metadata": {},
   "outputs": [
    {
     "name": "stdout",
     "output_type": "stream",
     "text": [
      "a is a tensor:False\n",
      "b is a tensor:True\n"
     ]
    }
   ],
   "source": [
    "# judge whether an object is a tensor or not.\n",
    "a = np.array([1, 2, 3, 4])\n",
    "b = torch.randn(3,3)\n",
    "print(\"a is a tensor:%s\" % torch.is_tensor(a))\n",
    "print(\"b is a tensor:%s\" % torch.is_tensor(b))\n"
   ]
  },
  {
   "cell_type": "markdown",
   "metadata": {},
   "source": [
    "we can also use function:`torch.is_storage(obj)` to judge whether the object is a python storage object.return bool type(true or false)"
   ]
  },
  {
   "cell_type": "markdown",
   "metadata": {},
   "source": [
    "### Get the element number of tensor "
   ]
  },
  {
   "cell_type": "markdown",
   "metadata": {},
   "source": [
    "`torch.numel(input)->int`: return the element number of tensor:input"
   ]
  },
  {
   "cell_type": "code",
   "execution_count": 6,
   "metadata": {},
   "outputs": [
    {
     "name": "stdout",
     "output_type": "stream",
     "text": [
      "the element number of tensor a is: 120\n",
      "the element number of tensor b is: 16\n"
     ]
    }
   ],
   "source": [
    "a = torch.randn(1, 2, 3, 4, 5)\n",
    "print(\"the element number of tensor a is: %d\" % torch.numel(a))\n",
    "b = torch.zeros(4, 4)\n",
    "print(\"the element number of tensor b is: %d\" % torch.numel(b))"
   ]
  },
  {
   "cell_type": "markdown",
   "metadata": {},
   "source": [
    "calculate method: a is 5 dims tensor, total element number is:5! = 120"
   ]
  },
  {
   "cell_type": "markdown",
   "metadata": {},
   "source": [
    "### Create Ops"
   ]
  },
  {
   "cell_type": "markdown",
   "metadata": {},
   "source": [
    "create a inentity matrix:\n",
    "`torch.eye(n, m=None, out=None)`: return a table(2 dims identity matrix) \n",
    "\n",
    "**parameters:** \n",
    "\n",
    "* n(int):the number of rows.\n",
    "* m(int, optional):the number of column,if \"None\":m==n\n",
    "* out(Tensor, optional): output tensor    "
   ]
  },
  {
   "cell_type": "code",
   "execution_count": null,
   "metadata": {
    "collapsed": true
   },
   "outputs": [],
   "source": []
  }
 ],
 "metadata": {
  "kernelspec": {
   "display_name": "Python 3",
   "language": "python",
   "name": "python3"
  },
  "language_info": {
   "codemirror_mode": {
    "name": "ipython",
    "version": 3
   },
   "file_extension": ".py",
   "mimetype": "text/x-python",
   "name": "python",
   "nbconvert_exporter": "python",
   "pygments_lexer": "ipython3",
   "version": "3.6.2"
  }
 },
 "nbformat": 4,
 "nbformat_minor": 2
}
